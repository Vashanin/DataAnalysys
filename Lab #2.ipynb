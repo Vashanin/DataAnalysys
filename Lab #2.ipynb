{
 "cells": [
  {
   "cell_type": "markdown",
   "metadata": {},
   "source": [
    "# Лабораторна робота №2 \n",
    "### Оцінювання параметрів статистичної вибірки"
   ]
  },
  {
   "cell_type": "code",
   "execution_count": null,
   "metadata": {
    "collapsed": true
   },
   "outputs": [],
   "source": [
    "from scipy import stats\n",
    "import numpy as np"
   ]
  },
  {
   "cell_type": "code",
   "execution_count": null,
   "metadata": {
    "collapsed": true
   },
   "outputs": [],
   "source": [
    "N = 100\n",
    "\n",
    "M = 20\n",
    "MG = 51"
   ]
  },
  {
   "cell_type": "code",
   "execution_count": null,
   "metadata": {
    "collapsed": true
   },
   "outputs": [],
   "source": [
    "rv = stats.uniform(10 + M, MG + 2 * M)"
   ]
  },
  {
   "cell_type": "code",
   "execution_count": null,
   "metadata": {
    "collapsed": true
   },
   "outputs": [],
   "source": [
    "population = rv.rvs(size=N)"
   ]
  },
  {
   "cell_type": "code",
   "execution_count": null,
   "metadata": {
    "collapsed": true
   },
   "outputs": [],
   "source": [
    "sample = np.random.choice(population, M)"
   ]
  },
  {
   "cell_type": "markdown",
   "metadata": {},
   "source": [
    "### a)"
   ]
  },
  {
   "cell_type": "code",
   "execution_count": null,
   "metadata": {
    "collapsed": true
   },
   "outputs": [],
   "source": [
    "Y = np.sum(population)"
   ]
  },
  {
   "cell_type": "code",
   "execution_count": null,
   "metadata": {
    "collapsed": true
   },
   "outputs": [],
   "source": [
    "Ys = Y / N"
   ]
  },
  {
   "cell_type": "code",
   "execution_count": null,
   "metadata": {
    "collapsed": true
   },
   "outputs": [],
   "source": [
    "DY2 = np.var(population, ddof=1)"
   ]
  },
  {
   "cell_type": "code",
   "execution_count": null,
   "metadata": {},
   "outputs": [
    {
     "name": "stdout",
     "output_type": "stream",
     "text": [
      "Сумма = 7259.719175871692\n",
      "Середнє значення = 72.59719175871692\n",
      "Середньоквадратичне відхилення = 678.7871208203798\n"
     ]
    }
   ],
   "source": [
    "print(\"Сумма = {}\"\n",
    "      \"\\nСереднє значення = {}\\n\"\n",
    "      \"Середньоквадратичне відхилення = {}\".format(Y, Ys, DY2))"
   ]
  },
  {
   "cell_type": "markdown",
   "metadata": {},
   "source": [
    "### б)"
   ]
  },
  {
   "cell_type": "code",
   "execution_count": null,
   "metadata": {
    "collapsed": true
   },
   "outputs": [],
   "source": [
    "Y_ = N * np.sum(sample / M)"
   ]
  },
  {
   "cell_type": "code",
   "execution_count": null,
   "metadata": {
    "collapsed": true
   },
   "outputs": [],
   "source": [
    "Ys_ = np.sum(sample) / M"
   ]
  },
  {
   "cell_type": "code",
   "execution_count": null,
   "metadata": {
    "collapsed": true
   },
   "outputs": [],
   "source": [
    "S2 = np.var(sample, ddof=1)"
   ]
  },
  {
   "cell_type": "code",
   "execution_count": null,
   "metadata": {},
   "outputs": [
    {
     "name": "stdout",
     "output_type": "stream",
     "text": [
      "Сумма = 7433.138790677948\n",
      "Середнє значення = 74.3313879067795\n",
      "Середньоквадратичне відхилення = 797.0073958306787\n"
     ]
    }
   ],
   "source": [
    "print(\"Сумма = {}\"\n",
    "      \"\\nСереднє значення = {}\\n\"\n",
    "      \"Середньоквадратичне відхилення = {}\".format(Y_, Ys_, S2))"
   ]
  },
  {
   "cell_type": "code",
   "execution_count": null,
   "metadata": {
    "collapsed": true
   },
   "outputs": [],
   "source": [
    "DY_s = (S2 / M) * np.sqrt(1 - M / N)"
   ]
  },
  {
   "cell_type": "code",
   "execution_count": null,
   "metadata": {
    "collapsed": true
   },
   "outputs": [],
   "source": [
    "DY_ = S2 * N**2 * (1 - M / N)"
   ]
  },
  {
   "cell_type": "code",
   "execution_count": null,
   "metadata": {},
   "outputs": [
    {
     "name": "stdout",
     "output_type": "stream",
     "text": [
      "Довірчий інтерва для середнього значення:\n",
      "(71.07402700273238, 77.58874881082662)\n"
     ]
    }
   ],
   "source": [
    "average_interval = (\n",
    "    Ys_ - 2.58 * np.sqrt(S2) * np.sqrt(1 - M / N) / M, \n",
    "    Ys_ + 2.58 * np.sqrt(S2) * np.sqrt(1 - M / N) / M\n",
    ")\n",
    "\n",
    "print(\"Довірчий інтерва для середнього значення:\\n\"\n",
    "      \"{}\".format(average_interval))"
   ]
  },
  {
   "cell_type": "code",
   "execution_count": null,
   "metadata": {},
   "outputs": [
    {
     "name": "stdout",
     "output_type": "stream",
     "text": [
      "Довірчий інтервал для загальної суми популяції:\n",
      "(7418.571429860551, 7447.706151495349)\n"
     ]
    }
   ],
   "source": [
    "population_interval = (\n",
    "    N * Ys_ - 2.58 * np.sqrt(S2) * np.sqrt(1 - M / N) / np.sqrt(M), \n",
    "    N * Ys_ + 2.58 * np.sqrt(S2) * np.sqrt(1 - M / N) / np.sqrt(M)\n",
    ")\n",
    "\n",
    "print(\"Довірчий інтервал для загальної суми популяції:\\n\"\n",
    "      \"{}\".format(population_interval))"
   ]
  },
  {
   "cell_type": "code",
   "execution_count": null,
   "metadata": {
    "collapsed": true
   },
   "outputs": [],
   "source": [
    "def selective_research(population, sample, disp=True): \n",
    "    # сумма популяції\n",
    "    Y = np.sum(population)\n",
    "    \n",
    "    # розмір популяції\n",
    "    N = population.shape[0]\n",
    "    \n",
    "    # розмір вибірки\n",
    "    M = sample.shape[0]\n",
    "    \n",
    "    # середнє значення популяції\n",
    "    Ys = Y / N\n",
    "    DY2 = np.var(population, ddof=1)\n",
    "    \n",
    "    Y_ = N * np.sum(sample / M)\n",
    "    Ys_ = np.sum(sample) / M\n",
    "    S2 = np.var(sample, ddof=1)\n",
    "    \n",
    "    DY_s = (S2 / M) * np.sqrt(1 - M / N)\n",
    "    DY_ = S2 * N**2 * (1 - M / N)\n",
    "    \n",
    "    average_interval = (\n",
    "        Ys_ - 2.58 * np.sqrt(S2) * np.sqrt(1 - M / N) / np.sqrt(M), \n",
    "        Ys_ + 2.58 * np.sqrt(S2) * np.sqrt(1 - M / N) / np.sqrt(M)\n",
    "    )\n",
    "    \n",
    "    population_interval = (\n",
    "        N * Ys_ - 2.58 * np.sqrt(S2) * np.sqrt(1 - M / N) / np.sqrt(M), \n",
    "        N * Ys_ + 2.58 * np.sqrt(S2) * np.sqrt(1 - M / N) / np.sqrt(M)\n",
    "    )\n",
    "    \n",
    "    if disp:\n",
    "        print(\"\\nПопуляція:\"\n",
    "              \"\\n\\tСумма = {}\"\n",
    "              \"\\n\\tСереднє значення = {}\"\n",
    "              \"\\n\\tСередньоквадратичне відхилення = {}\".format(Y, Ys, DY2))\n",
    "        print(\"\\nВибірка:\"\n",
    "              \"\\n\\tСумма = {}\"\n",
    "              \"\\n\\tСереднє значення = {}\"\n",
    "              \"\\n\\tСередньоквадратичне відхилення = {}\".format(Y_, Ys_, S2))\n",
    "        \n",
    "        print(\"\\nДовірчий інтерва для середнього значення:\"\n",
    "              \"\\n\\t{}\".format(average_interval))\n",
    "        \n",
    "        print(\"\\nДовірчий інтервал для загальної суми популяції:\"\n",
    "              \"\\n\\t{}\".format(population_interval))\n",
    "        \n",
    "    return {\n",
    "        \"average_interval\": average_interval,\n",
    "        \"population_interval\": population_interval,\n",
    "        \"Y\": Y,\n",
    "        \"Ys\": Ys,\n",
    "        \"DY2\": DY2,\n",
    "        \"Y_\": Y_,\n",
    "        \"Ys_\": Ys_,\n",
    "        \"S2\": S2,\n",
    "        \"DY_s\": DY_s,\n",
    "        \"DY_\": DY_\n",
    "    }"
   ]
  },
  {
   "cell_type": "code",
   "execution_count": null,
   "metadata": {},
   "outputs": [
    {
     "name": "stdout",
     "output_type": "stream",
     "text": [
      "\n",
      "Популяція:\n",
      "\tСумма = 7259.719175871692\n",
      "\tСереднє значення = 72.59719175871692\n",
      "\tСередньоквадратичне відхилення = 678.7871208203798\n",
      "\n",
      "Вибірка:\n",
      "\tСумма = 7433.138790677948\n",
      "\tСереднє значення = 74.3313879067795\n",
      "\tСередньоквадратичне відхилення = 797.0073958306787\n",
      "\n",
      "Довірчий інтерва для середнього значення:\n",
      "\t(59.76402708938045, 88.89874872417855)\n",
      "\n",
      "Довірчий інтервал для загальної суми популяції:\n",
      "\t(7418.571429860551, 7447.706151495349)\n"
     ]
    },
    {
     "data": {
      "text/plain": [
       "{'DY2': 678.7871208203798,\n",
       " 'DY_': 6376059.16664543,\n",
       " 'DY_s': 35.6432543129496,\n",
       " 'S2': 797.0073958306787,\n",
       " 'Y': 7259.719175871692,\n",
       " 'Y_': 7433.138790677948,\n",
       " 'Ys': 72.59719175871692,\n",
       " 'Ys_': 74.3313879067795,\n",
       " 'average_interval': (59.76402708938045, 88.89874872417855),\n",
       " 'population_interval': (7418.571429860551, 7447.706151495349)}"
      ]
     },
     "execution_count": 54,
     "metadata": {},
     "output_type": "execute_result"
    }
   ],
   "source": [
    "selective_research(population, sample)"
   ]
  },
  {
   "cell_type": "code",
   "execution_count": null,
   "metadata": {
    "collapsed": true
   },
   "outputs": [],
   "source": [
    "population = rv.rvs(size=10000)"
   ]
  },
  {
   "cell_type": "code",
   "execution_count": null,
   "metadata": {},
   "outputs": [
    {
     "name": "stdout",
     "output_type": "stream",
     "text": [
      "\n",
      "Популяція:\n",
      "\tСумма = 755694.1798678852\n",
      "\tСереднє значення = 75.56941798678852\n",
      "\tСередньоквадратичне відхилення = 694.4006064448641\n",
      "\n",
      "Вибірка:\n",
      "\tСумма = 751793.249538928\n",
      "\tСереднє значення = 75.1793249538928\n",
      "\tСередньоквадратичне відхилення = 648.8515445198054\n",
      "\n",
      "Довірчий інтерва для середнього значення:\n",
      "\t(68.640345471793, 81.71830443599261)\n",
      "\n",
      "Довірчий інтервал для загальної суми популяції:\n",
      "\t(751786.7105594459, 751799.7885184102)\n"
     ]
    },
    {
     "data": {
      "text/plain": [
       "{'DY2': 694.4006064448641,\n",
       " 'DY_': 64236302907.46074,\n",
       " 'DY_s': 6.455991353444331,\n",
       " 'S2': 648.8515445198054,\n",
       " 'Y': 755694.1798678852,\n",
       " 'Y_': 751793.249538928,\n",
       " 'Ys': 75.56941798678852,\n",
       " 'Ys_': 75.1793249538928,\n",
       " 'average_interval': (68.640345471793, 81.71830443599261),\n",
       " 'population_interval': (751786.7105594459, 751799.7885184102)}"
      ]
     },
     "execution_count": 56,
     "metadata": {},
     "output_type": "execute_result"
    }
   ],
   "source": [
    "selective_research(population=population, \n",
    "                   sample=np.random.choice(population, 100))"
   ]
  },
  {
   "cell_type": "code",
   "execution_count": null,
   "metadata": {},
   "outputs": [
    {
     "name": "stdout",
     "output_type": "stream",
     "text": [
      "\n",
      "Популяція:\n",
      "\tСумма = 755694.1798678852\n",
      "\tСереднє значення = 75.56941798678852\n",
      "\tСередньоквадратичне відхилення = 694.4006064448641\n",
      "\n",
      "Вибірка:\n",
      "\tСумма = 750332.6032886156\n",
      "\tСереднє значення = 75.03326032886156\n",
      "\tСередньоквадратичне відхилення = 701.5820053501147\n",
      "\n",
      "Довірчий інтерва для середнього значення:\n",
      "\t(72.98313608521893, 77.08338457250419)\n",
      "\n",
      "Довірчий інтервал для загальної суми популяції:\n",
      "\t(750330.553164372, 750334.6534128592)\n"
     ]
    },
    {
     "data": {
      "text/plain": [
       "{'DY2': 694.4006064448641,\n",
       " 'DY_': 63142380481.51033,\n",
       " 'DY_s': 0.66557913068844,\n",
       " 'S2': 701.5820053501147,\n",
       " 'Y': 755694.1798678852,\n",
       " 'Y_': 750332.6032886156,\n",
       " 'Ys': 75.56941798678852,\n",
       " 'Ys_': 75.03326032886156,\n",
       " 'average_interval': (72.98313608521893, 77.08338457250419),\n",
       " 'population_interval': (750330.553164372, 750334.6534128592)}"
      ]
     },
     "execution_count": 57,
     "metadata": {},
     "output_type": "execute_result"
    }
   ],
   "source": [
    "selective_research(population=population, \n",
    "                   sample=np.random.choice(population, 1000))"
   ]
  },
  {
   "cell_type": "code",
   "execution_count": null,
   "metadata": {
    "collapsed": true
   },
   "outputs": [],
   "source": [
    "sample100 = []\n",
    "sample1000 = []\n",
    "\n",
    "for i in range(population.shape[0]):\n",
    "    if i % 100 == 0:\n",
    "        sample100.append(population[i])\n",
    "    if i % 10 == 0:\n",
    "        sample1000.append(population[i])\n",
    "        \n",
    "sample100 = np.array(sample100)\n",
    "sample1000 = np.array(sample1000)"
   ]
  },
  {
   "cell_type": "code",
   "execution_count": null,
   "metadata": {},
   "outputs": [
    {
     "name": "stdout",
     "output_type": "stream",
     "text": [
      "\n",
      "Популяція:\n",
      "\tСумма = 755694.1798678852\n",
      "\tСереднє значення = 75.56941798678852\n",
      "\tСередньоквадратичне відхилення = 694.4006064448641\n",
      "\n",
      "Вибірка:\n",
      "\tСумма = 714534.2142525075\n",
      "\tСереднє значення = 71.45342142525075\n",
      "\tСередньоквадратичне відхилення = 703.1684545611356\n",
      "\n",
      "Довірчий інтерва для середнього значення:\n",
      "\t(64.64624521485973, 78.26059763564177)\n",
      "\n",
      "Довірчий інтервал для загальної суми популяції:\n",
      "\t(714527.4070762972, 714541.0214287179)\n"
     ]
    },
    {
     "data": {
      "text/plain": [
       "{'DY2': 694.4006064448641,\n",
       " 'DY_': 69613677001.55241,\n",
       " 'DY_s': 6.996437784580071,\n",
       " 'S2': 703.1684545611356,\n",
       " 'Y': 755694.1798678852,\n",
       " 'Y_': 714534.2142525075,\n",
       " 'Ys': 75.56941798678852,\n",
       " 'Ys_': 71.45342142525075,\n",
       " 'average_interval': (64.64624521485973, 78.26059763564177),\n",
       " 'population_interval': (714527.4070762972, 714541.0214287179)}"
      ]
     },
     "execution_count": 59,
     "metadata": {},
     "output_type": "execute_result"
    }
   ],
   "source": [
    "selective_research(population=population, \n",
    "                   sample=sample100)"
   ]
  },
  {
   "cell_type": "code",
   "execution_count": null,
   "metadata": {},
   "outputs": [
    {
     "name": "stdout",
     "output_type": "stream",
     "text": [
      "\n",
      "Популяція:\n",
      "\tСумма = 755694.1798678852\n",
      "\tСереднє значення = 75.56941798678852\n",
      "\tСередньоквадратичне відхилення = 694.4006064448641\n",
      "\n",
      "Вибірка:\n",
      "\tСумма = 761174.5696272865\n",
      "\tСереднє значення = 76.11745696272864\n",
      "\tСередньоквадратичне відхилення = 725.5901158538811\n",
      "\n",
      "Довірчий інтерва для середнього значення:\n",
      "\t(74.03255019204252, 78.20236373341476)\n",
      "\n",
      "Довірчий інтервал для загальної суми популяції:\n",
      "\t(761172.4847205157, 761176.6545340571)\n"
     ]
    },
    {
     "data": {
      "text/plain": [
       "{'DY2': 694.4006064448641,\n",
       " 'DY_': 65303110426.8493,\n",
       " 'DY_s': 0.6883552241411143,\n",
       " 'S2': 725.5901158538811,\n",
       " 'Y': 755694.1798678852,\n",
       " 'Y_': 761174.5696272865,\n",
       " 'Ys': 75.56941798678852,\n",
       " 'Ys_': 76.11745696272864,\n",
       " 'average_interval': (74.03255019204252, 78.20236373341476),\n",
       " 'population_interval': (761172.4847205157, 761176.6545340571)}"
      ]
     },
     "execution_count": 60,
     "metadata": {},
     "output_type": "execute_result"
    }
   ],
   "source": [
    "selective_research(population=population, sample=sample1000)"
   ]
  },
  {
   "cell_type": "code",
   "execution_count": null,
   "metadata": {
    "collapsed": true
   },
   "outputs": [],
   "source": [
    "size_of_population = population.shape[0]\n",
    "proportions = [0.5, 0.3, 0.2]\n",
    "\n",
    "stratified_population = np.array([\n",
    "    population[: int(proportions[0] * size_of_population)],\n",
    "    \n",
    "    population[int(proportions[0] * size_of_population): \n",
    "               int((proportions[0] + proportions[1]) * size_of_population)],\n",
    "    \n",
    "    population[int((proportions[0] + proportions[1]) * size_of_population):]\n",
    "])"
   ]
  },
  {
   "cell_type": "code",
   "execution_count": null,
   "metadata": {
    "collapsed": true
   },
   "outputs": [],
   "source": [
    "size_of_sample = 1000"
   ]
  },
  {
   "cell_type": "code",
   "execution_count": null,
   "metadata": {
    "collapsed": true
   },
   "outputs": [],
   "source": [
    "sample = np.array([\n",
    "    np.random.choice(stratified_population[0], int(size_of_sample * proportions[0])),\n",
    "    np.random.choice(stratified_population[1], int(size_of_sample * proportions[1])),\n",
    "    np.random.choice(stratified_population[2], int(size_of_sample * proportions[2]))\n",
    "])"
   ]
  },
  {
   "cell_type": "code",
   "execution_count": null,
   "metadata": {
    "collapsed": true
   },
   "outputs": [],
   "source": [
    "joined_sample = np.array([])\n",
    "joined_sample = np.append(joined_sample, sample[0])\n",
    "joined_sample = np.append(joined_sample, sample[1])\n",
    "joined_sample = np.append(joined_sample, sample[2])"
   ]
  },
  {
   "cell_type": "code",
   "execution_count": null,
   "metadata": {},
   "outputs": [
    {
     "name": "stdout",
     "output_type": "stream",
     "text": [
      "\n",
      "Популяція:\n",
      "\tСумма = 755694.1798678852\n",
      "\tСереднє значення = 75.56941798678852\n",
      "\tСередньоквадратичне відхилення = 694.4006064448641\n",
      "\n",
      "Вибірка:\n",
      "\tСумма = 759742.3345031086\n",
      "\tСереднє значення = 75.97423345031086\n",
      "\tСередньоквадратичне відхилення = 681.2828056234728\n",
      "\n",
      "Довірчий інтерва для середнього значення:\n",
      "\t(73.95398550002929, 77.99448140059243)\n",
      "\n",
      "Довірчий інтервал для загальної суми популяції:\n",
      "\t(759740.3142551583, 759744.354751059)\n"
     ]
    },
    {
     "data": {
      "text/plain": [
       "{'DY2': 694.4006064448641,\n",
       " 'DY_': 61315452506.11255,\n",
       " 'DY_s': 0.6463216189439832,\n",
       " 'S2': 681.2828056234728,\n",
       " 'Y': 755694.1798678852,\n",
       " 'Y_': 759742.3345031086,\n",
       " 'Ys': 75.56941798678852,\n",
       " 'Ys_': 75.97423345031086,\n",
       " 'average_interval': (73.95398550002929, 77.99448140059243),\n",
       " 'population_interval': (759740.3142551583, 759744.354751059)}"
      ]
     },
     "execution_count": 65,
     "metadata": {},
     "output_type": "execute_result"
    }
   ],
   "source": [
    "selective_research(population=population, sample=joined_sample)"
   ]
  },
  {
   "cell_type": "code",
   "execution_count": null,
   "metadata": {},
   "outputs": [
    {
     "name": "stdout",
     "output_type": "stream",
     "text": [
      "\n",
      "Вибіркова вага:\n",
      "\t[10. 10. 10.]\n",
      "Cереднє значення для страти h:\n",
      "\t[75.47949177 75.74966636 75.52386097]\n",
      "Загальна сума для страти h:\n",
      "\t[377397.45883056 227248.99909077 151047.72194656]\n",
      "Загальна сума для всієї популяції:\n",
      "\t755694.1798678851\n",
      "Середнє значення для всієї популяції:\n",
      "\t75.56941798678851\n",
      "Дисперсія в страті h:\n",
      "\t[697.2348245  680.15887175 709.30278483]\n"
     ]
    }
   ],
   "source": [
    "n = size_of_sample\n",
    "N = size_of_population\n",
    "\n",
    "nh = np.array([\n",
    "    sample[0].shape[0],\n",
    "    sample[1].shape[0],\n",
    "    sample[2].shape[0]\n",
    "])\n",
    "\n",
    "Nh = np.array([\n",
    "    stratified_population[0].shape[0],\n",
    "    stratified_population[1].shape[0],\n",
    "    stratified_population[2].shape[0]\n",
    "])\n",
    "\n",
    "# вибіркова вага\n",
    "wh = np.array([\n",
    "    Nh[0] / nh[0], \n",
    "    Nh[1] / nh[1],\n",
    "    Nh[2] / nh[2]\n",
    "])\n",
    "\n",
    "# середнє значення для страти h\n",
    "y_h = np.array([\n",
    "    np.mean(stratified_population[0]), \n",
    "    np.mean(stratified_population[1]), \n",
    "    np.mean(stratified_population[2])\n",
    "])\n",
    "\n",
    "# загальна сума для страти h\n",
    "Yh = np.array([\n",
    "    np.sum(stratified_population[0]), \n",
    "    np.sum(stratified_population[1]), \n",
    "    np.sum(stratified_population[2])\n",
    "])\n",
    "\n",
    "# загальна сума для всієї популяції\n",
    "Y = np.sum(Yh)\n",
    "\n",
    "# середнє значення для всієї популяції\n",
    "y_U = Y / N\n",
    "\n",
    "# дисперсія в страті h\n",
    "S2h = np.array([\n",
    "    np.var(stratified_population[0], ddof=1),\n",
    "    np.var(stratified_population[1], ddof=1),\n",
    "    np.var(stratified_population[2], ddof=1)\n",
    "])\n",
    "\n",
    "print(\"\\nВибіркова вага:\\n\\t{}\"\n",
    "      \"\\nCереднє значення для страти h:\\n\\t{}\"\n",
    "      \"\\nЗагальна сума для страти h:\\n\\t{}\"\n",
    "      \"\\nЗагальна сума для всієї популяції:\\n\\t{}\"\n",
    "      \"\\nСереднє значення для всієї популяції:\\n\\t{}\"\n",
    "      \"\\nДисперсія в страті h:\\n\\t{}\".format(wh, y_h, Yh, Y, y_U, S2h))"
   ]
  },
  {
   "cell_type": "code",
   "execution_count": null,
   "metadata": {},
   "outputs": [
    {
     "name": "stdout",
     "output_type": "stream",
     "text": [
      "\n",
      "Вага страти h:\n",
      "\t[0.5 0.3 0.2]\n",
      "Оцінка середнього для страти h:\n",
      "\t[77.16895655 75.17998333 74.17880089]\n",
      "Оцінка загальної суми для страти h:\n",
      "\t[385844.78274355 225539.94998363 148357.60177592]\n",
      "Оцінка вибіркової дисперсії для страти h:\n",
      "\t[684.66094445 653.2784914  713.95877072]\n"
     ]
    }
   ],
   "source": [
    "# вага страти h\n",
    "Wh = Nh / N\n",
    "\n",
    "# оцінка середнього для страти h, h=1,...,N\n",
    "y_h_ = np.array([\n",
    "    np.mean(sample[0]), \n",
    "    np.mean(sample[1]), \n",
    "    np.mean(sample[2])\n",
    "])\n",
    "\n",
    "# оцінка загальної суми для страти h, h=1,...,N\n",
    "Yh_ = y_h_ * Nh\n",
    "\n",
    "# оцінка вибіркової дисперсії для страти h, h=1,...,N\n",
    "s2h = np.array([\n",
    "    np.var(sample[0], ddof=1),\n",
    "    np.var(sample[1], ddof=1),\n",
    "    np.var(sample[2], ddof=1)\n",
    "])\n",
    "\n",
    "print(\"\\nВага страти h:\\n\\t{}\"\n",
    "      \"\\nОцінка середнього для страти h:\\n\\t{}\"\n",
    "      \"\\nОцінка загальної суми для страти h:\\n\\t{}\"\n",
    "      \"\\nОцінка вибіркової дисперсії для страти h:\\n\\t{}\".format(Wh, y_h_, Yh_, s2h))"
   ]
  },
  {
   "cell_type": "code",
   "execution_count": null,
   "metadata": {},
   "outputs": [
    {
     "name": "stdout",
     "output_type": "stream",
     "text": [
      "\n",
      "Оцінка суми популяції:\n",
      "\t759742.3345031086\n",
      "Оцінка середнього популяції:\n",
      "\t75.97423345031086\n"
     ]
    }
   ],
   "source": [
    "Y_st = np.sum(Nh * y_h_)\n",
    "y_st = np.sum(Wh * y_h_)\n",
    "\n",
    "print(\"\\nОцінка суми популяції:\\n\\t{}\"\n",
    "      \"\\nОцінка середнього популяції:\\n\\t{}\".format(Y_st, y_st))"
   ]
  },
  {
   "cell_type": "code",
   "execution_count": null,
   "metadata": {},
   "outputs": [
    {
     "name": "stdout",
     "output_type": "stream",
     "text": [
      "\n",
      "Незміщена оцінка дисперсії:\n",
      "\t61299519.64102872\n",
      "\t0.6129951964102872\n"
     ]
    }
   ],
   "source": [
    "DY_st = np.sum((1 - nh/Nh) * Nh **2 * s2h / nh)\n",
    "Dy_st = DY_st / (N ** 2)\n",
    "\n",
    "print(\"\\nНезміщена оцінка дисперсії:\"\n",
    "      \"\\n\\t{}\"\n",
    "      \"\\n\\t{}\".format(DY_st, Dy_st))"
   ]
  },
  {
   "cell_type": "code",
   "execution_count": null,
   "metadata": {},
   "outputs": [
    {
     "name": "stdout",
     "output_type": "stream",
     "text": [
      "Довірчий інтервал для оцінки середнього значення:\n",
      "(73.95424799853517, 77.99421890208656)\n"
     ]
    }
   ],
   "source": [
    "print(\"Довірчий інтервал для оцінки середнього значення:\")\n",
    "print((y_st - 2.58 * np.sqrt(Dy_st), y_st + 2.58 * np.sqrt(Dy_st)))"
   ]
  },
  {
   "cell_type": "code",
   "execution_count": null,
   "metadata": {
    "collapsed": true
   },
   "outputs": [],
   "source": [
    "# Дисперсійний аналіз: Кобзар Прикладна математична статистика\n",
    "# Бахрушин: Методу аналізу даних\n",
    "# Мостицький: Статистичний аналіз в R"
   ]
  },
  {
   "cell_type": "code",
   "execution_count": 7,
   "metadata": {},
   "outputs": [],
   "source": [
    "a = \"{0:15}\".format(\"lol\")"
   ]
  },
  {
   "cell_type": "code",
   "execution_count": 21,
   "metadata": {},
   "outputs": [],
   "source": [
    "a = \"{0:14}\".format(1)"
   ]
  },
  {
   "cell_type": "code",
   "execution_count": 22,
   "metadata": {},
   "outputs": [
    {
     "data": {
      "text/plain": [
       "'             1'"
      ]
     },
     "execution_count": 22,
     "metadata": {},
     "output_type": "execute_result"
    }
   ],
   "source": [
    "a"
   ]
  },
  {
   "cell_type": "code",
   "execution_count": null,
   "metadata": {
    "collapsed": true
   },
   "outputs": [],
   "source": []
  }
 ],
 "metadata": {
  "kernelspec": {
   "display_name": "Python 3",
   "language": "python",
   "name": "python3"
  },
  "language_info": {
   "codemirror_mode": {
    "name": "ipython",
    "version": 3
   },
   "file_extension": ".py",
   "mimetype": "text/x-python",
   "name": "python",
   "nbconvert_exporter": "python",
   "pygments_lexer": "ipython3",
   "version": "3.6.3"
  }
 },
 "nbformat": 4,
 "nbformat_minor": 2
}
