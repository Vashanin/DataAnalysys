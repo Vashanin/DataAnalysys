{
 "cells": [
  {
   "cell_type": "markdown",
   "metadata": {},
   "source": [
    "# Лабораторна робота 3"
   ]
  },
  {
   "cell_type": "code",
   "execution_count": 1,
   "metadata": {
    "collapsed": true
   },
   "outputs": [],
   "source": [
    "import numpy as np\n",
    "import scipy\n",
    "import scipy.stats\n",
    "import pprint"
   ]
  },
  {
   "cell_type": "code",
   "execution_count": 2,
   "metadata": {
    "collapsed": true
   },
   "outputs": [],
   "source": [
    "alpha = 0.95\n",
    "N = 20"
   ]
  },
  {
   "cell_type": "code",
   "execution_count": 3,
   "metadata": {},
   "outputs": [],
   "source": [
    "rv = scipy.stats.uniform(0, 1)"
   ]
  },
  {
   "cell_type": "markdown",
   "metadata": {},
   "source": [
    "### Алгоритми однофакторного і двохфакторного дисперсного аналізу"
   ]
  },
  {
   "cell_type": "code",
   "execution_count": 4,
   "metadata": {
    "collapsed": true
   },
   "outputs": [],
   "source": [
    "A = np.array([\n",
    "    1.0 * N + rv.rvs(size=1000),\n",
    "    0.5 * N + rv.rvs(size=1000),\n",
    "    0.8 * N + rv.rvs(size=1000),\n",
    "    1.4 * N + rv.rvs(size=1000),\n",
    "    2.0 * N + rv.rvs(size=1000)\n",
    "])"
   ]
  },
  {
   "cell_type": "code",
   "execution_count": 5,
   "metadata": {
    "collapsed": true
   },
   "outputs": [],
   "source": [
    "Si_2 = A.var(ddof=1, axis=1)"
   ]
  },
  {
   "cell_type": "code",
   "execution_count": 6,
   "metadata": {},
   "outputs": [
    {
     "name": "stdout",
     "output_type": "stream",
     "text": [
      "[[0.08810234]\n",
      " [0.08547098]\n",
      " [0.08586759]\n",
      " [0.08186904]\n",
      " [0.08054873]]\n"
     ]
    }
   ],
   "source": [
    "print(Si_2.reshape((-1, 1)))"
   ]
  },
  {
   "cell_type": "code",
   "execution_count": 7,
   "metadata": {},
   "outputs": [],
   "source": [
    "g = np.max(Si_2) / np.sum(Si_2)"
   ]
  },
  {
   "cell_type": "code",
   "execution_count": 31,
   "metadata": {
    "collapsed": true
   },
   "outputs": [],
   "source": [
    "g_alpha = 0.3"
   ]
  },
  {
   "cell_type": "code",
   "execution_count": 32,
   "metadata": {},
   "outputs": [
    {
     "name": "stdout",
     "output_type": "stream",
     "text": [
      "Немає підстав відхилити нульову гіпотезу\n"
     ]
    }
   ],
   "source": [
    "if g > g_alpha:\n",
    "    print(\"Нульова гіпотеза про рівність дисперсій відхиляється.\")\n",
    "else:\n",
    "    print(\"Немає підстав відхилити нульову гіпотезу\")"
   ]
  },
  {
   "cell_type": "code",
   "execution_count": 10,
   "metadata": {
    "collapsed": true
   },
   "outputs": [],
   "source": [
    "k = A.shape[0]\n",
    "n = A.shape[1]"
   ]
  },
  {
   "cell_type": "code",
   "execution_count": 11,
   "metadata": {},
   "outputs": [],
   "source": [
    "S0_2 = (\n",
    "    np.sum(np.sum(A ** 2, axis=1), axis=0) - np.sum(np.sum(A, axis=1) ** 2, axis=0) / n \n",
    ") / (k * (n - 1))"
   ]
  },
  {
   "cell_type": "code",
   "execution_count": 12,
   "metadata": {
    "collapsed": true
   },
   "outputs": [],
   "source": [
    "S_2 = (\n",
    "    np.sum(np.sum(A ** 2, axis=1), axis=0) \n",
    "    - np.sum(np.sum(A, axis=1), axis=0) ** 2 / (k * n)\n",
    ") / (k * n - 1)"
   ]
  },
  {
   "cell_type": "code",
   "execution_count": 13,
   "metadata": {},
   "outputs": [],
   "source": [
    "x_ = np.sum(A, axis=1) / n\n",
    "x__ = np.sum(x_, axis=0) / k"
   ]
  },
  {
   "cell_type": "code",
   "execution_count": 14,
   "metadata": {},
   "outputs": [],
   "source": [
    "SA_2 = np.sum((x_ - x__) ** 2, axis=0) * n / (k - 1)"
   ]
  },
  {
   "cell_type": "code",
   "execution_count": 33,
   "metadata": {
    "collapsed": true
   },
   "outputs": [],
   "source": [
    "F = 2"
   ]
  },
  {
   "cell_type": "code",
   "execution_count": 34,
   "metadata": {},
   "outputs": [
    {
     "name": "stdout",
     "output_type": "stream",
     "text": [
      "Вплив значущий\n"
     ]
    }
   ],
   "source": [
    "if SA_2 / S0_2 > F:\n",
    "    print(\"Вплив значущий\")\n",
    "else:\n",
    "    print(\"Вплив не є значущим\")"
   ]
  },
  {
   "cell_type": "markdown",
   "metadata": {},
   "source": [
    "### Двохфакторний аналіз"
   ]
  },
  {
   "cell_type": "code",
   "execution_count": 35,
   "metadata": {},
   "outputs": [],
   "source": [
    "A = np.array([\n",
    "    [\n",
    "        1.0 * N + rv.rvs(100), \n",
    "        3.5 * N + rv.rvs(100), \n",
    "        3.8 * N + rv.rvs(100), \n",
    "        1.4 * N + rv.rvs(100), \n",
    "        2.0 * N + rv.rvs(100)\n",
    "    ],\n",
    "    [\n",
    "        1.0 * N + rv.rvs(100), \n",
    "        2.5 * N + rv.rvs(100), \n",
    "        2.8 * N + rv.rvs(100), \n",
    "        2.4 * N + rv.rvs(100), \n",
    "        3.0 * N + rv.rvs(100)\n",
    "    ],\n",
    "    [\n",
    "        1.0 * N + rv.rvs(100), \n",
    "        1.5 * N + rv.rvs(100), \n",
    "        1.8 * N + rv.rvs(100), \n",
    "        3.4 * N + rv.rvs(100), \n",
    "        4.0 * N + rv.rvs(100)\n",
    "    ],\n",
    "    [\n",
    "        1.0 * N + rv.rvs(100), \n",
    "        0.5 * N + rv.rvs(100), \n",
    "        0.8 * N + rv.rvs(100), \n",
    "        4.4 * N + rv.rvs(100), \n",
    "        5.0 * N + rv.rvs(100)\n",
    "    ]\n",
    "])"
   ]
  },
  {
   "cell_type": "code",
   "execution_count": 36,
   "metadata": {},
   "outputs": [],
   "source": [
    "# середнє значення в кожній клітинці\n",
    "x = np.mean(A, axis=2)"
   ]
  },
  {
   "cell_type": "code",
   "execution_count": 37,
   "metadata": {
    "collapsed": true
   },
   "outputs": [],
   "source": [
    "Q1 = np.sum(np.sum(x ** 2, axis=1), axis=0)"
   ]
  },
  {
   "cell_type": "code",
   "execution_count": 38,
   "metadata": {},
   "outputs": [],
   "source": [
    "Xj = np.sum(x, axis=1)\n",
    "Xi = np.sum(x.T, axis=1)"
   ]
  },
  {
   "cell_type": "code",
   "execution_count": 39,
   "metadata": {
    "collapsed": true
   },
   "outputs": [],
   "source": [
    "n = 100\n",
    "m = 4\n",
    "k = 5"
   ]
  },
  {
   "cell_type": "code",
   "execution_count": 40,
   "metadata": {
    "collapsed": true
   },
   "outputs": [],
   "source": [
    "Q2 = np.sum(Xi ** 2, axis=0) / m\n",
    "Q3 = np.sum(Xj ** 2, axis=0) / k"
   ]
  },
  {
   "cell_type": "code",
   "execution_count": 41,
   "metadata": {
    "collapsed": true
   },
   "outputs": [],
   "source": [
    "Q4 = (np.sum(Xj) ** 2) / (m * k)"
   ]
  },
  {
   "cell_type": "code",
   "execution_count": 42,
   "metadata": {},
   "outputs": [],
   "source": [
    "S0_2 = (Q1 + Q4 - Q2 - Q3) / ((k - 1) * (m - 1))\n",
    "SA_2 = (Q2 - Q4) / (k - 1)\n",
    "SB_2 = (Q3 - Q4) / (m - 1)"
   ]
  },
  {
   "cell_type": "code",
   "execution_count": 43,
   "metadata": {
    "collapsed": true
   },
   "outputs": [],
   "source": [
    "F = 5.41"
   ]
  },
  {
   "cell_type": "code",
   "execution_count": 44,
   "metadata": {},
   "outputs": [
    {
     "name": "stdout",
     "output_type": "stream",
     "text": [
      "Фактор не значущий\n"
     ]
    }
   ],
   "source": [
    "if SA_2 / S0_2 > F:\n",
    "    print(\"Фактор значущий\")\n",
    "else:\n",
    "    print(\"Фактор не значущий\")"
   ]
  },
  {
   "cell_type": "code",
   "execution_count": 46,
   "metadata": {},
   "outputs": [
    {
     "name": "stdout",
     "output_type": "stream",
     "text": [
      "Фактор не значущий\n"
     ]
    }
   ],
   "source": [
    "if SB_2 / S0_2 > F:\n",
    "    print(\"Фактор значущий\")\n",
    "else:\n",
    "    print(\"Фактор не значущий\")"
   ]
  },
  {
   "cell_type": "code",
   "execution_count": 45,
   "metadata": {
    "collapsed": true
   },
   "outputs": [],
   "source": [
    "Q5 = np.sum(A ** 2)"
   ]
  },
  {
   "cell_type": "code",
   "execution_count": 28,
   "metadata": {},
   "outputs": [],
   "source": [
    "SAB_2 = (Q5 - n * Q1) / (m * k * (n - 1))"
   ]
  },
  {
   "cell_type": "code",
   "execution_count": 29,
   "metadata": {
    "collapsed": true
   },
   "outputs": [],
   "source": [
    "F = 3.51"
   ]
  },
  {
   "cell_type": "code",
   "execution_count": 30,
   "metadata": {},
   "outputs": [
    {
     "name": "stdout",
     "output_type": "stream",
     "text": [
      "Взаємодія АВ факторів значуща\n"
     ]
    }
   ],
   "source": [
    "if (n * S0_2) / SAB_2 > F:\n",
    "    print(\"Взаємодія АВ факторів значуща\")\n",
    "else:\n",
    "    print(\"Взаємодія АВ факторів не є значущою\")"
   ]
  }
 ],
 "metadata": {
  "kernelspec": {
   "display_name": "Python 3",
   "language": "python",
   "name": "python3"
  },
  "language_info": {
   "codemirror_mode": {
    "name": "ipython",
    "version": 3
   },
   "file_extension": ".py",
   "mimetype": "text/x-python",
   "name": "python",
   "nbconvert_exporter": "python",
   "pygments_lexer": "ipython3",
   "version": "3.6.3"
  }
 },
 "nbformat": 4,
 "nbformat_minor": 2
}
